{
  "cells": [
    {
      "cell_type": "code",
      "execution_count": 4,
      "metadata": {
        "id": "6jek7vqFcHKY",
        "outputId": "4c9c17da-26b4-42f2-c749-6d521ffc3f02",
        "colab": {
          "base_uri": "https://localhost:8080/",
          "height": 298
        }
      },
      "outputs": [
        {
          "output_type": "execute_result",
          "data": {
            "text/plain": [
              "<matplotlib.axes._subplots.AxesSubplot at 0x7f3b0beedf90>"
            ]
          },
          "metadata": {},
          "execution_count": 4
        },
        {
          "output_type": "display_data",
          "data": {
            "text/plain": [
              "<Figure size 432x288 with 1 Axes>"
            ],
            "image/png": "[encoded data removed]"
          },
          "metadata": {
            "needs_background": "light"
          }
        }
      ],
      "source": [
        "import numpy as np\n",
        "from numpy import linalg as LA\n",
        "import matplotlib.pyplot as plt\n",
        "import seaborn as sns\n",
        "\n",
        "\n",
        "\n",
        "### Marcenko-Pastur\n",
        "def MP(x,p,n):\n",
        "    q = 1.*p/n\n",
        "    dmin = (1.0 - np.sqrt(q))**2\n",
        "    dmax = (1.0 + np.sqrt(q))**2\n",
        "    if (x < dmin or x > dmax):\n",
        "        rho = 0\n",
        "    else:   \n",
        "        rho = np.sqrt((dmax-x)*(x-dmin))/(2*np.pi*q*x)\n",
        "    return(rho)    \n",
        "\n",
        "### Parametros\n",
        "p = 500\n",
        "n = 1000\n",
        "q = p/n\n",
        "dmin = (1.0 - np.sqrt(q))**2\n",
        "dmax = (1.0 + np.sqrt(q))**2\n",
        "points = 1000\n",
        "\n",
        "x = np.linspace(dmin,dmax,points)\n",
        "marcenko = np.zeros([points])\n",
        "for i in range(points):\n",
        "    marcenko[i] = MP(x[i],p,n)\n",
        "    \n",
        "plt.plot(x,marcenko,label='Marcenko-Pastur') \n",
        "title='p='+str(p)+', n='+str(n)+', q='+str(p/n)\n",
        "plt.title(title)\n",
        "plt.legend(loc='upper left',bbox_to_anchor = (1, 1)) \n",
        "\n",
        "\n",
        "\n",
        "### SIMULACION MONTE CARLO\n",
        "m = 10\n",
        "eig = []\n",
        "for i in range(m):\n",
        "    Z = np.random.normal(0,1, (p, n))\n",
        "    S = 1./n*np.dot(Z,np.transpose(Z))\n",
        "    lambdas, V = LA.eigh(S)\n",
        "    eig.append(lambdas)\n",
        "eigenvalues =  np.array(eig)\n",
        "eigenvec = eigenvalues.flatten()\n",
        "sns.histplot(data=eigenvec,stat=\"density\", element=\"step\", fill=False, label='Simulación')\n",
        "\n",
        "\n"
      ]
    },
    {
      "cell_type": "code",
      "execution_count": null,
      "metadata": {
        "id": "HP6DnpxGcHKc"
      },
      "outputs": [],
      "source": [
        ""
      ]
    }
  ],
  "metadata": {
    "kernelspec": {
      "display_name": "Python 3",
      "language": "python",
      "name": "python3"
    },
    "language_info": {
      "codemirror_mode": {
        "name": "ipython",
        "version": 3
      },
      "file_extension": ".py",
      "mimetype": "text/x-python",
      "name": "python",
      "nbconvert_exporter": "python",
      "pygments_lexer": "ipython3",
      "version": "3.8.10"
    },
    "colab": {
      "name": "Marcenko Pastur.ipynb",
      "provenance": [],
      "collapsed_sections": []
    }
  },
  "nbformat": 4,
  "nbformat_minor": 0
}